{
  "cells": [
    {
      "cell_type": "code",
      "execution_count": null,
      "id": "3d83f46e",
      "metadata": {
        "id": "3d83f46e"
      },
      "outputs": [],
      "source": [
        "import time\n",
        "import pandas as pd"
      ]
    },
    {
      "cell_type": "code",
      "execution_count": null,
      "id": "38fcb317",
      "metadata": {
        "colab": {
          "base_uri": "https://localhost:8080/"
        },
        "id": "38fcb317",
        "outputId": "85287296-9262-4727-b9ef-9475dd3bc8b3"
      },
      "outputs": [
        {
          "output_type": "stream",
          "name": "stdout",
          "text": [
            "Looking in indexes: https://pypi.org/simple, https://us-python.pkg.dev/colab-wheels/public/simple/\n",
            "Requirement already satisfied: tweepy in /usr/local/lib/python3.7/dist-packages (4.10.1)\n",
            "Requirement already satisfied: requests<3,>=2.27.0 in /usr/local/lib/python3.7/dist-packages (from tweepy) (2.28.1)\n",
            "Requirement already satisfied: requests-oauthlib<2,>=1.2.0 in /usr/local/lib/python3.7/dist-packages (from tweepy) (1.3.1)\n",
            "Requirement already satisfied: oauthlib<4,>=3.2.0 in /usr/local/lib/python3.7/dist-packages (from tweepy) (3.2.0)\n",
            "Requirement already satisfied: charset-normalizer<3,>=2 in /usr/local/lib/python3.7/dist-packages (from requests<3,>=2.27.0->tweepy) (2.1.1)\n",
            "Requirement already satisfied: idna<4,>=2.5 in /usr/local/lib/python3.7/dist-packages (from requests<3,>=2.27.0->tweepy) (2.10)\n",
            "Requirement already satisfied: urllib3<1.27,>=1.21.1 in /usr/local/lib/python3.7/dist-packages (from requests<3,>=2.27.0->tweepy) (1.24.3)\n",
            "Requirement already satisfied: certifi>=2017.4.17 in /usr/local/lib/python3.7/dist-packages (from requests<3,>=2.27.0->tweepy) (2022.6.15)\n"
          ]
        }
      ],
      "source": [
        "!pip install tweepy"
      ]
    },
    {
      "cell_type": "code",
      "execution_count": null,
      "id": "7a919008",
      "metadata": {
        "colab": {
          "base_uri": "https://localhost:8080/"
        },
        "id": "7a919008",
        "outputId": "85a6b90e-e71d-4892-dfb4-8371f87b33fc"
      },
      "outputs": [
        {
          "output_type": "stream",
          "name": "stdout",
          "text": [
            "Looking in indexes: https://pypi.org/simple, https://us-python.pkg.dev/colab-wheels/public/simple/\n",
            "Requirement already satisfied: tweepy in /usr/local/lib/python3.7/dist-packages (4.10.1)\n",
            "Requirement already satisfied: oauthlib<4,>=3.2.0 in /usr/local/lib/python3.7/dist-packages (from tweepy) (3.2.0)\n",
            "Requirement already satisfied: requests<3,>=2.27.0 in /usr/local/lib/python3.7/dist-packages (from tweepy) (2.28.1)\n",
            "Requirement already satisfied: requests-oauthlib<2,>=1.2.0 in /usr/local/lib/python3.7/dist-packages (from tweepy) (1.3.1)\n",
            "Requirement already satisfied: certifi>=2017.4.17 in /usr/local/lib/python3.7/dist-packages (from requests<3,>=2.27.0->tweepy) (2022.6.15)\n",
            "Requirement already satisfied: idna<4,>=2.5 in /usr/local/lib/python3.7/dist-packages (from requests<3,>=2.27.0->tweepy) (2.10)\n",
            "Requirement already satisfied: urllib3<1.27,>=1.21.1 in /usr/local/lib/python3.7/dist-packages (from requests<3,>=2.27.0->tweepy) (1.24.3)\n",
            "Requirement already satisfied: charset-normalizer<3,>=2 in /usr/local/lib/python3.7/dist-packages (from requests<3,>=2.27.0->tweepy) (2.1.1)\n"
          ]
        }
      ],
      "source": [
        "!pip install tweepy --upgrade"
      ]
    },
    {
      "cell_type": "code",
      "execution_count": null,
      "id": "bd3fad20",
      "metadata": {
        "id": "bd3fad20"
      },
      "outputs": [],
      "source": [
        "import tweepy\n",
        "\n",
        "client = tweepy.Client(bearer_token = \"AAAAAAAAAAAAAAAAAAAAADzHZgEAAAAATzwSRGLVQMn%2FlfknUiaWftPUYCg%3Dqyws7OS4Mye3FWpBwCKEUGyj8ODr1IJ49zCAIKC1toNPzOsJS1\", wait_on_rate_limit=False)"
      ]
    },
    {
      "cell_type": "code",
      "execution_count": null,
      "id": "9eaf846a",
      "metadata": {
        "id": "9eaf846a"
      },
      "outputs": [],
      "source": [
        "hoax_tweets = []\n",
        "for response in tweepy.Paginator(client.search_all_tweets, \n",
        "                                 query = 'hackerbjorka  -is:retweet lang:id',\n",
        "                                 user_fields = ['username', 'public_metrics', 'description', 'location'],\n",
        "                                 tweet_fields = ['created_at', 'geo', 'public_metrics', 'text'],\n",
        "                                 expansions = 'author_id',\n",
        "                                 start_time = '2022-09-10T00:00:00Z',\n",
        "                                 end_time = '2022-09-28T00:00:00Z',\n",
        "                                 max_results=50):\n",
        "    time.sleep(1)\n",
        "    hoax_tweets.append(response)"
      ]
    },
    {
      "cell_type": "code",
      "execution_count": null,
      "id": "a8e544ab",
      "metadata": {
        "colab": {
          "base_uri": "https://localhost:8080/"
        },
        "id": "a8e544ab",
        "outputId": "3a22b793-2dc2-4e87-9648-712b515d003b"
      },
      "outputs": [
        {
          "output_type": "execute_result",
          "data": {
            "text/plain": [
              "<Tweet id=1574817905337724929 text='Info Slot Gacor DAYWINBET Rabu, 28 September 2022\\n\\nDaftar Sekarang Juga Dan Dapatkan BONUS Menarik DAYWINBET Di https://t.co/tXFoGBOgSV\\n\\n#DAYWINBET #DAYWINBETGACOR #Slotgacor #Slotonline #trend #viralindo #bbmnaik #Gempa #Bjorka #hackerbjorka #SAMBO #indonesia #mesum_virall #fyp https://t.co/kYotuvVuHc'>"
            ]
          },
          "metadata": {},
          "execution_count": 32
        }
      ],
      "source": [
        "hoax_tweets[0].data[0]"
      ]
    },
    {
      "cell_type": "code",
      "execution_count": null,
      "id": "0da64adf",
      "metadata": {
        "colab": {
          "base_uri": "https://localhost:8080/"
        },
        "id": "0da64adf",
        "outputId": "36966134-0c30-4d6e-bf07-87a112e755c8"
      },
      "outputs": [
        {
          "output_type": "execute_result",
          "data": {
            "text/plain": [
              "<User id=308747558 name=Ahdianzar Ahmad username=AnzarAchmad>"
            ]
          },
          "metadata": {},
          "execution_count": 33
        }
      ],
      "source": [
        "hoax_tweets[0].includes['users'][2]"
      ]
    },
    {
      "cell_type": "code",
      "execution_count": null,
      "id": "11c492d6",
      "metadata": {
        "id": "11c492d6"
      },
      "outputs": [],
      "source": [
        "result = []\n",
        "user_dict = {}\n",
        "# Loop through each response object\n",
        "for response in hoax_tweets:\n",
        "    # Take all of the users, and put them into a dictionary of dictionaries with the info we want to keep\n",
        "    for user in response.includes['users']:\n",
        "        user_dict[user.id] = {'username': user.username, \n",
        "                              'followers': user.public_metrics['followers_count'],\n",
        "                              'tweets': user.public_metrics['tweet_count'],\n",
        "                              'description': user.description,\n",
        "                              'location': user.location\n",
        "                             }\n",
        "    for tweet in response.data:\n",
        "        # For each tweet, find the author's information\n",
        "        author_info = user_dict[tweet.author_id]\n",
        "        # Put all of the information we want to keep in a single dictionary for each tweet\n",
        "        result.append({'author_id': tweet.author_id, \n",
        "                       'username': author_info['username'],\n",
        "                       'author_followers': author_info['followers'],\n",
        "                       'author_tweets': author_info['tweets'],\n",
        "                       'author_description': author_info['description'],\n",
        "                       'author_location': author_info['location'],\n",
        "                       'text': tweet.text,\n",
        "                       'created_at': tweet.created_at,\n",
        "                       'retweets': tweet.public_metrics['retweet_count'],\n",
        "                       'replies': tweet.public_metrics['reply_count'],\n",
        "                       'likes': tweet.public_metrics['like_count'],\n",
        "                       'quote_count': tweet.public_metrics['quote_count']\n",
        "                      })\n",
        "\n",
        "# Change this list of dictionaries into a dataframe\n",
        "df = pd.DataFrame(result)"
      ]
    },
    {
      "cell_type": "code",
      "execution_count": null,
      "id": "683ac9b8",
      "metadata": {
        "colab": {
          "base_uri": "https://localhost:8080/",
          "height": 971
        },
        "id": "683ac9b8",
        "outputId": "c3f8b12c-3d04-4a64-ca70-ad5206fabd11"
      },
      "outputs": [
        {
          "output_type": "execute_result",
          "data": {
            "text/plain": [
              "               author_id        username  author_followers  author_tweets  \\\n",
              "0    1497302647459966978       daywinbet                 4            479   \n",
              "1    1497302647459966978       daywinbet                 4            479   \n",
              "2               21287066  beritajatimcom             25644         428643   \n",
              "3              308747558     AnzarAchmad              1052           4078   \n",
              "4    1569955470445772800    andymulyana_                20             29   \n",
              "..                   ...             ...               ...            ...   \n",
              "612            123757780    terkinidotid             11500          54859   \n",
              "613            174631261       Kilat_com              9456          11467   \n",
              "614           2911375412     rmbantencom              1059          16880   \n",
              "615            123757780    terkinidotid             11500          54859   \n",
              "616  1502441886803390465    RM_RajaMedia                 9            484   \n",
              "\n",
              "                                    author_description       author_location  \\\n",
              "0    DAYWINBET Situs Betting Judi online Terbaik , ...             Indonesia   \n",
              "1    DAYWINBET Situs Betting Judi online Terbaik , ...             Indonesia   \n",
              "2    Official  akun https://t.co/1K2cy6CVzX Warta J...              Surabaya   \n",
              "3    I create creativity with Gojek and I Make YouT...   Makassar, Indonesia   \n",
              "4                                          HANYA GABUT                  None   \n",
              "..                                                 ...                   ...   \n",
              "612  https://t.co/bbn90zxutU adalah portal berita i...   Makassar, Indonesia   \n",
              "613                                   Jadi Cepat Paham               Jakarta   \n",
              "614  Mengabarkan informasi terkini, faktual, kritis...             Indonesia   \n",
              "615  https://t.co/bbn90zxutU adalah portal berita i...   Makassar, Indonesia   \n",
              "616                              Berdikari itu keren🎉🥰  Tangerang, Indonesia   \n",
              "\n",
              "                                                  text  \\\n",
              "0    Info Slot Gacor DAYWINBET Rabu, 28 September 2...   \n",
              "1    Info Slot Gacor DAYWINBET Selasa, 27 September...   \n",
              "2    Respon Hacker Bjorka, Ribuan Maba UM Surabaya ...   \n",
              "3    KALAU HACKER LAKUKAN INI, GAME OVER 😱 https://...   \n",
              "4    Bjorka wujudh asli\\n#bjorka #hackerbjorka #fyp...   \n",
              "..                                                 ...   \n",
              "612  Hacker Bjorka Klaim Retas Surat Rahasia Jokowi...   \n",
              "613  Hacker Bjorka Tantang Pemerintah Indonesia Men...   \n",
              "614  Ribuan Dokumen Milik Presiden Jokowi Dibobol H...   \n",
              "615  Terkait Hacker Bjorka, Jhonny G Plate: Illegal...   \n",
              "616  Hacker Bjorka Meretas Ribuan Dokumen Milik Pre...   \n",
              "\n",
              "                   created_at  retweets  replies  likes  quote_count  \n",
              "0   2022-09-27 17:47:01+00:00         0        0      1            0  \n",
              "1   2022-09-26 19:27:05+00:00         0        0      0            0  \n",
              "2   2022-09-26 14:16:04+00:00         0        0      0            0  \n",
              "3   2022-09-25 10:26:13+00:00         0        0      0            0  \n",
              "4   2022-09-25 08:03:23+00:00         0        1      1            0  \n",
              "..                        ...       ...      ...    ...          ...  \n",
              "612 2022-09-10 09:11:33+00:00         0        0      0            0  \n",
              "613 2022-09-10 07:24:49+00:00         0        0      5            0  \n",
              "614 2022-09-10 07:10:22+00:00         0        0      0            0  \n",
              "615 2022-09-10 05:10:34+00:00         0        0      0            0  \n",
              "616 2022-09-10 03:39:37+00:00         1        0      1            0  \n",
              "\n",
              "[617 rows x 12 columns]"
            ],
            "text/html": [
              "\n",
              "  <div id=\"df-fb7c772a-929a-4752-aa37-f6f5647cc240\">\n",
              "    <div class=\"colab-df-container\">\n",
              "      <div>\n",
              "<style scoped>\n",
              "    .dataframe tbody tr th:only-of-type {\n",
              "        vertical-align: middle;\n",
              "    }\n",
              "\n",
              "    .dataframe tbody tr th {\n",
              "        vertical-align: top;\n",
              "    }\n",
              "\n",
              "    .dataframe thead th {\n",
              "        text-align: right;\n",
              "    }\n",
              "</style>\n",
              "<table border=\"1\" class=\"dataframe\">\n",
              "  <thead>\n",
              "    <tr style=\"text-align: right;\">\n",
              "      <th></th>\n",
              "      <th>author_id</th>\n",
              "      <th>username</th>\n",
              "      <th>author_followers</th>\n",
              "      <th>author_tweets</th>\n",
              "      <th>author_description</th>\n",
              "      <th>author_location</th>\n",
              "      <th>text</th>\n",
              "      <th>created_at</th>\n",
              "      <th>retweets</th>\n",
              "      <th>replies</th>\n",
              "      <th>likes</th>\n",
              "      <th>quote_count</th>\n",
              "    </tr>\n",
              "  </thead>\n",
              "  <tbody>\n",
              "    <tr>\n",
              "      <th>0</th>\n",
              "      <td>1497302647459966978</td>\n",
              "      <td>daywinbet</td>\n",
              "      <td>4</td>\n",
              "      <td>479</td>\n",
              "      <td>DAYWINBET Situs Betting Judi online Terbaik , ...</td>\n",
              "      <td>Indonesia</td>\n",
              "      <td>Info Slot Gacor DAYWINBET Rabu, 28 September 2...</td>\n",
              "      <td>2022-09-27 17:47:01+00:00</td>\n",
              "      <td>0</td>\n",
              "      <td>0</td>\n",
              "      <td>1</td>\n",
              "      <td>0</td>\n",
              "    </tr>\n",
              "    <tr>\n",
              "      <th>1</th>\n",
              "      <td>1497302647459966978</td>\n",
              "      <td>daywinbet</td>\n",
              "      <td>4</td>\n",
              "      <td>479</td>\n",
              "      <td>DAYWINBET Situs Betting Judi online Terbaik , ...</td>\n",
              "      <td>Indonesia</td>\n",
              "      <td>Info Slot Gacor DAYWINBET Selasa, 27 September...</td>\n",
              "      <td>2022-09-26 19:27:05+00:00</td>\n",
              "      <td>0</td>\n",
              "      <td>0</td>\n",
              "      <td>0</td>\n",
              "      <td>0</td>\n",
              "    </tr>\n",
              "    <tr>\n",
              "      <th>2</th>\n",
              "      <td>21287066</td>\n",
              "      <td>beritajatimcom</td>\n",
              "      <td>25644</td>\n",
              "      <td>428643</td>\n",
              "      <td>Official  akun https://t.co/1K2cy6CVzX Warta J...</td>\n",
              "      <td>Surabaya</td>\n",
              "      <td>Respon Hacker Bjorka, Ribuan Maba UM Surabaya ...</td>\n",
              "      <td>2022-09-26 14:16:04+00:00</td>\n",
              "      <td>0</td>\n",
              "      <td>0</td>\n",
              "      <td>0</td>\n",
              "      <td>0</td>\n",
              "    </tr>\n",
              "    <tr>\n",
              "      <th>3</th>\n",
              "      <td>308747558</td>\n",
              "      <td>AnzarAchmad</td>\n",
              "      <td>1052</td>\n",
              "      <td>4078</td>\n",
              "      <td>I create creativity with Gojek and I Make YouT...</td>\n",
              "      <td>Makassar, Indonesia</td>\n",
              "      <td>KALAU HACKER LAKUKAN INI, GAME OVER 😱 https://...</td>\n",
              "      <td>2022-09-25 10:26:13+00:00</td>\n",
              "      <td>0</td>\n",
              "      <td>0</td>\n",
              "      <td>0</td>\n",
              "      <td>0</td>\n",
              "    </tr>\n",
              "    <tr>\n",
              "      <th>4</th>\n",
              "      <td>1569955470445772800</td>\n",
              "      <td>andymulyana_</td>\n",
              "      <td>20</td>\n",
              "      <td>29</td>\n",
              "      <td>HANYA GABUT</td>\n",
              "      <td>None</td>\n",
              "      <td>Bjorka wujudh asli\\n#bjorka #hackerbjorka #fyp...</td>\n",
              "      <td>2022-09-25 08:03:23+00:00</td>\n",
              "      <td>0</td>\n",
              "      <td>1</td>\n",
              "      <td>1</td>\n",
              "      <td>0</td>\n",
              "    </tr>\n",
              "    <tr>\n",
              "      <th>...</th>\n",
              "      <td>...</td>\n",
              "      <td>...</td>\n",
              "      <td>...</td>\n",
              "      <td>...</td>\n",
              "      <td>...</td>\n",
              "      <td>...</td>\n",
              "      <td>...</td>\n",
              "      <td>...</td>\n",
              "      <td>...</td>\n",
              "      <td>...</td>\n",
              "      <td>...</td>\n",
              "      <td>...</td>\n",
              "    </tr>\n",
              "    <tr>\n",
              "      <th>612</th>\n",
              "      <td>123757780</td>\n",
              "      <td>terkinidotid</td>\n",
              "      <td>11500</td>\n",
              "      <td>54859</td>\n",
              "      <td>https://t.co/bbn90zxutU adalah portal berita i...</td>\n",
              "      <td>Makassar, Indonesia</td>\n",
              "      <td>Hacker Bjorka Klaim Retas Surat Rahasia Jokowi...</td>\n",
              "      <td>2022-09-10 09:11:33+00:00</td>\n",
              "      <td>0</td>\n",
              "      <td>0</td>\n",
              "      <td>0</td>\n",
              "      <td>0</td>\n",
              "    </tr>\n",
              "    <tr>\n",
              "      <th>613</th>\n",
              "      <td>174631261</td>\n",
              "      <td>Kilat_com</td>\n",
              "      <td>9456</td>\n",
              "      <td>11467</td>\n",
              "      <td>Jadi Cepat Paham</td>\n",
              "      <td>Jakarta</td>\n",
              "      <td>Hacker Bjorka Tantang Pemerintah Indonesia Men...</td>\n",
              "      <td>2022-09-10 07:24:49+00:00</td>\n",
              "      <td>0</td>\n",
              "      <td>0</td>\n",
              "      <td>5</td>\n",
              "      <td>0</td>\n",
              "    </tr>\n",
              "    <tr>\n",
              "      <th>614</th>\n",
              "      <td>2911375412</td>\n",
              "      <td>rmbantencom</td>\n",
              "      <td>1059</td>\n",
              "      <td>16880</td>\n",
              "      <td>Mengabarkan informasi terkini, faktual, kritis...</td>\n",
              "      <td>Indonesia</td>\n",
              "      <td>Ribuan Dokumen Milik Presiden Jokowi Dibobol H...</td>\n",
              "      <td>2022-09-10 07:10:22+00:00</td>\n",
              "      <td>0</td>\n",
              "      <td>0</td>\n",
              "      <td>0</td>\n",
              "      <td>0</td>\n",
              "    </tr>\n",
              "    <tr>\n",
              "      <th>615</th>\n",
              "      <td>123757780</td>\n",
              "      <td>terkinidotid</td>\n",
              "      <td>11500</td>\n",
              "      <td>54859</td>\n",
              "      <td>https://t.co/bbn90zxutU adalah portal berita i...</td>\n",
              "      <td>Makassar, Indonesia</td>\n",
              "      <td>Terkait Hacker Bjorka, Jhonny G Plate: Illegal...</td>\n",
              "      <td>2022-09-10 05:10:34+00:00</td>\n",
              "      <td>0</td>\n",
              "      <td>0</td>\n",
              "      <td>0</td>\n",
              "      <td>0</td>\n",
              "    </tr>\n",
              "    <tr>\n",
              "      <th>616</th>\n",
              "      <td>1502441886803390465</td>\n",
              "      <td>RM_RajaMedia</td>\n",
              "      <td>9</td>\n",
              "      <td>484</td>\n",
              "      <td>Berdikari itu keren🎉🥰</td>\n",
              "      <td>Tangerang, Indonesia</td>\n",
              "      <td>Hacker Bjorka Meretas Ribuan Dokumen Milik Pre...</td>\n",
              "      <td>2022-09-10 03:39:37+00:00</td>\n",
              "      <td>1</td>\n",
              "      <td>0</td>\n",
              "      <td>1</td>\n",
              "      <td>0</td>\n",
              "    </tr>\n",
              "  </tbody>\n",
              "</table>\n",
              "<p>617 rows × 12 columns</p>\n",
              "</div>\n",
              "      <button class=\"colab-df-convert\" onclick=\"convertToInteractive('df-fb7c772a-929a-4752-aa37-f6f5647cc240')\"\n",
              "              title=\"Convert this dataframe to an interactive table.\"\n",
              "              style=\"display:none;\">\n",
              "        \n",
              "  <svg xmlns=\"http://www.w3.org/2000/svg\" height=\"24px\"viewBox=\"0 0 24 24\"\n",
              "       width=\"24px\">\n",
              "    <path d=\"M0 0h24v24H0V0z\" fill=\"none\"/>\n",
              "    <path d=\"M18.56 5.44l.94 2.06.94-2.06 2.06-.94-2.06-.94-.94-2.06-.94 2.06-2.06.94zm-11 1L8.5 8.5l.94-2.06 2.06-.94-2.06-.94L8.5 2.5l-.94 2.06-2.06.94zm10 10l.94 2.06.94-2.06 2.06-.94-2.06-.94-.94-2.06-.94 2.06-2.06.94z\"/><path d=\"M17.41 7.96l-1.37-1.37c-.4-.4-.92-.59-1.43-.59-.52 0-1.04.2-1.43.59L10.3 9.45l-7.72 7.72c-.78.78-.78 2.05 0 2.83L4 21.41c.39.39.9.59 1.41.59.51 0 1.02-.2 1.41-.59l7.78-7.78 2.81-2.81c.8-.78.8-2.07 0-2.86zM5.41 20L4 18.59l7.72-7.72 1.47 1.35L5.41 20z\"/>\n",
              "  </svg>\n",
              "      </button>\n",
              "      \n",
              "  <style>\n",
              "    .colab-df-container {\n",
              "      display:flex;\n",
              "      flex-wrap:wrap;\n",
              "      gap: 12px;\n",
              "    }\n",
              "\n",
              "    .colab-df-convert {\n",
              "      background-color: #E8F0FE;\n",
              "      border: none;\n",
              "      border-radius: 50%;\n",
              "      cursor: pointer;\n",
              "      display: none;\n",
              "      fill: #1967D2;\n",
              "      height: 32px;\n",
              "      padding: 0 0 0 0;\n",
              "      width: 32px;\n",
              "    }\n",
              "\n",
              "    .colab-df-convert:hover {\n",
              "      background-color: #E2EBFA;\n",
              "      box-shadow: 0px 1px 2px rgba(60, 64, 67, 0.3), 0px 1px 3px 1px rgba(60, 64, 67, 0.15);\n",
              "      fill: #174EA6;\n",
              "    }\n",
              "\n",
              "    [theme=dark] .colab-df-convert {\n",
              "      background-color: #3B4455;\n",
              "      fill: #D2E3FC;\n",
              "    }\n",
              "\n",
              "    [theme=dark] .colab-df-convert:hover {\n",
              "      background-color: #434B5C;\n",
              "      box-shadow: 0px 1px 3px 1px rgba(0, 0, 0, 0.15);\n",
              "      filter: drop-shadow(0px 1px 2px rgba(0, 0, 0, 0.3));\n",
              "      fill: #FFFFFF;\n",
              "    }\n",
              "  </style>\n",
              "\n",
              "      <script>\n",
              "        const buttonEl =\n",
              "          document.querySelector('#df-fb7c772a-929a-4752-aa37-f6f5647cc240 button.colab-df-convert');\n",
              "        buttonEl.style.display =\n",
              "          google.colab.kernel.accessAllowed ? 'block' : 'none';\n",
              "\n",
              "        async function convertToInteractive(key) {\n",
              "          const element = document.querySelector('#df-fb7c772a-929a-4752-aa37-f6f5647cc240');\n",
              "          const dataTable =\n",
              "            await google.colab.kernel.invokeFunction('convertToInteractive',\n",
              "                                                     [key], {});\n",
              "          if (!dataTable) return;\n",
              "\n",
              "          const docLinkHtml = 'Like what you see? Visit the ' +\n",
              "            '<a target=\"_blank\" href=https://colab.research.google.com/notebooks/data_table.ipynb>data table notebook</a>'\n",
              "            + ' to learn more about interactive tables.';\n",
              "          element.innerHTML = '';\n",
              "          dataTable['output_type'] = 'display_data';\n",
              "          await google.colab.output.renderOutput(dataTable, element);\n",
              "          const docLink = document.createElement('div');\n",
              "          docLink.innerHTML = docLinkHtml;\n",
              "          element.appendChild(docLink);\n",
              "        }\n",
              "      </script>\n",
              "    </div>\n",
              "  </div>\n",
              "  "
            ]
          },
          "metadata": {},
          "execution_count": 35
        }
      ],
      "source": [
        "df"
      ]
    },
    {
      "cell_type": "code",
      "execution_count": null,
      "id": "4ee4fb19",
      "metadata": {
        "id": "4ee4fb19"
      },
      "outputs": [],
      "source": [
        "df.to_csv(\"hackerbjorka.csv\")"
      ]
    },
    {
      "cell_type": "code",
      "source": [
        "pip install openpyxl"
      ],
      "metadata": {
        "colab": {
          "base_uri": "https://localhost:8080/"
        },
        "id": "iSeJFfM6mwRY",
        "outputId": "74dab70f-ae83-4110-fafb-452c9384f5d1"
      },
      "id": "iSeJFfM6mwRY",
      "execution_count": null,
      "outputs": [
        {
          "output_type": "stream",
          "name": "stdout",
          "text": [
            "Looking in indexes: https://pypi.org/simple, https://us-python.pkg.dev/colab-wheels/public/simple/\n",
            "Requirement already satisfied: openpyxl in /usr/local/lib/python3.7/dist-packages (3.0.10)\n",
            "Requirement already satisfied: et-xmlfile in /usr/local/lib/python3.7/dist-packages (from openpyxl) (1.1.0)\n"
          ]
        }
      ]
    },
    {
      "cell_type": "code",
      "source": [
        "# Check which columns have timezones datetime64[ns, UTC] \n",
        "df.dtypes\n",
        "\n",
        "# Remove timezone from columns\n",
        "df['created_at'] = df['created_at'].dt.tz_localize(None)\n",
        "\n",
        "df.to_excel(\"hackerbjorka.xlsx\", index=False)"
      ],
      "metadata": {
        "id": "25Ji3JBBmyC7"
      },
      "id": "25Ji3JBBmyC7",
      "execution_count": null,
      "outputs": []
    }
  ],
  "metadata": {
    "kernelspec": {
      "display_name": "Python 3",
      "language": "python",
      "name": "python3"
    },
    "language_info": {
      "codemirror_mode": {
        "name": "ipython",
        "version": 3
      },
      "file_extension": ".py",
      "mimetype": "text/x-python",
      "name": "python",
      "nbconvert_exporter": "python",
      "pygments_lexer": "ipython3",
      "version": "3.8.8"
    },
    "colab": {
      "provenance": []
    }
  },
  "nbformat": 4,
  "nbformat_minor": 5
}